{
 "cells": [
  {
   "cell_type": "code",
   "execution_count": 1,
   "metadata": {},
   "outputs": [],
   "source": [
    "import pandas as pd\n",
    "\n",
    "# Read CSV files\n",
    "somethinc = pd.read_csv('somethinc/sentimen_somethinc_terpisah.csv')\n",
    "skingame = pd.read_csv('skingame/sentimen_skingame_terpisah.csv')\n",
    "azarine = pd.read_csv('azarine/sentimen_azarine_terpisah.csv')\n",
    "avoskin = pd.read_csv('avoskin/sentimen_avoskin_terpisah.csv')\n",
    "\n",
    "# Concatenate dataframes along rows\n",
    "concatenated_df = pd.concat([somethinc, skingame, azarine, avoskin], ignore_index=True)\n",
    "\n",
    "# Save the concatenated dataframe to a new CSV file\n",
    "concatenated_df.to_csv('allreview_clean.csv', index=False)"
   ]
  }
 ],
 "metadata": {
  "kernelspec": {
   "display_name": "Python 3",
   "language": "python",
   "name": "python3"
  },
  "language_info": {
   "codemirror_mode": {
    "name": "ipython",
    "version": 3
   },
   "file_extension": ".py",
   "mimetype": "text/x-python",
   "name": "python",
   "nbconvert_exporter": "python",
   "pygments_lexer": "ipython3",
   "version": "3.9.7"
  }
 },
 "nbformat": 4,
 "nbformat_minor": 2
}
